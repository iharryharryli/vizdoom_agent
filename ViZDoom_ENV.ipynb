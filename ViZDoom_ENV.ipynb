{
 "cells": [
  {
   "cell_type": "code",
   "execution_count": 1,
   "metadata": {},
   "outputs": [],
   "source": [
    "import vizdoom as vzd\n",
    "from random import choice\n",
    "from time import sleep\n",
    "import skimage.transform\n",
    "import numpy as np"
   ]
  },
  {
   "cell_type": "code",
   "execution_count": 2,
   "metadata": {},
   "outputs": [],
   "source": [
    "class ViZDoomENV:\n",
    "    def __init__(self, seed):\n",
    "        game = vzd.DoomGame()\n",
    "        game.set_doom_scenario_path(\"ViZDoom_map/health_gathering.wad\")\n",
    "        \n",
    "        # game input setup\n",
    "        game.set_screen_resolution(vzd.ScreenResolution.RES_160X120)\n",
    "        game.set_screen_format(vzd.ScreenFormat.RGB24)\n",
    "        game.set_depth_buffer_enabled(True)\n",
    "        \n",
    "        # rendering setup\n",
    "        game.set_render_hud(False)\n",
    "        game.set_render_minimal_hud(False)  # If hud is enabled\n",
    "        game.set_render_crosshair(False)\n",
    "        game.set_render_weapon(True)\n",
    "        game.set_render_decals(False)  # Bullet holes and blood on the walls\n",
    "        game.set_render_particles(False)\n",
    "        game.set_render_effects_sprites(False)  # Smoke and blood\n",
    "        game.set_render_messages(False)  # In-game messages\n",
    "        game.set_render_corpses(False)\n",
    "        game.set_render_screen_flashes(True)  # Effect upon taking damage or picking up items\n",
    "        \n",
    "        # Adds buttons that will be allowed.\n",
    "        game.add_available_button(vzd.Button.MOVE_LEFT)\n",
    "        game.add_available_button(vzd.Button.MOVE_RIGHT)\n",
    "        game.add_available_button(vzd.Button.MOVE_FORWARD)\n",
    "        game.add_available_button(vzd.Button.MOVE_BACKWARD)\n",
    "        # generate the corresponding actions\n",
    "        num_buttons = 4\n",
    "        actions = [([False] * num_buttons)for i in range(num_buttons)]\n",
    "        for i in range(num_buttons):\n",
    "            actions[i][i] = True\n",
    "        self.actions = actions\n",
    "        # set frame repeat for taking action\n",
    "        self.frame_repeat = 1\n",
    "        \n",
    "        # Causes episodes to finish after 2000 tics (actions)\n",
    "        game.set_episode_timeout(2000)\n",
    "        # Sets the livin reward (for each move) to 1\n",
    "        game.set_living_reward(1)\n",
    "        # Sets ViZDoom mode (PLAYER, ASYNC_PLAYER, SPECTATOR, ASYNC_SPECTATOR, PLAYER mode is default)\n",
    "        game.set_mode(vzd.Mode.PLAYER)\n",
    "        \n",
    "        game.set_seed(seed)\n",
    "        game.init()\n",
    "        \n",
    "        self.game = game\n",
    "        \n",
    "        self.last_input = None\n",
    "        \n",
    "        \n",
    "    def get_current_input(self):\n",
    "        state = self.game.get_state()\n",
    "        \n",
    "        n = state.number\n",
    "        screen_buf = state.screen_buffer\n",
    "        depth_buf = state.depth_buffer\n",
    "        \n",
    "        # down sample to 84 * 84\n",
    "        resolution = (84, 84)\n",
    "        screen_buf = skimage.transform.resize(screen_buf, resolution)\n",
    "        depth_buf = skimage.transform.resize(depth_buf, resolution)\n",
    "        \n",
    "        # change axis\n",
    "        screen_buf = np.rollaxis(screen_buf, 2, 0)\n",
    "        depth_buf = depth_buf[np.newaxis,:]\n",
    "        \n",
    "        res = np.vstack((screen_buf, depth_buf))\n",
    "        \n",
    "        self.last_input = (res, n)\n",
    "        \n",
    "        return res, n\n",
    "    \n",
    "    def step(self, action):\n",
    "        info = {}\n",
    "        reward = self.game.make_action(self.actions[action], self.frame_repeat)\n",
    "        done = self.game.is_episode_finished()\n",
    "        if done:\n",
    "            ob, n = self.last_input\n",
    "            info['Episode_Total_Reward'] = self.game.get_total_reward()\n",
    "            info['Episode_Total_Len'] = n\n",
    "        else:\n",
    "            ob, n = self.get_current_input()\n",
    "        \n",
    "        return ob, reward, done, info\n",
    "    \n",
    "    def reset(self):\n",
    "        self.game.new_episode()\n",
    "        ob, n = self.get_current_input()\n",
    "        return ob\n",
    "    \n",
    "    def close(self):\n",
    "        self.game.close()\n",
    "    "
   ]
  },
  {
   "cell_type": "code",
   "execution_count": 3,
   "metadata": {},
   "outputs": [],
   "source": [
    "game = vzd.DoomGame()\n",
    "game.set_doom_scenario_path(\"ViZDoom_map/health_gathering.wad\")\n",
    "#game.set_doom_map(\"map02\")"
   ]
  },
  {
   "cell_type": "code",
   "execution_count": 6,
   "metadata": {
    "scrolled": true
   },
   "outputs": [
    {
     "name": "stderr",
     "output_type": "stream",
     "text": [
      "/Users/harry/venv/lib/python3.6/site-packages/skimage/transform/_warps.py:105: UserWarning: The default mode, 'constant', will be changed to 'reflect' in skimage 0.15.\n",
      "  warn(\"The default mode, 'constant', will be changed to 'reflect' in \"\n",
      "/Users/harry/venv/lib/python3.6/site-packages/skimage/transform/_warps.py:110: UserWarning: Anti-aliasing will be enabled by default in skimage 0.15 to avoid aliasing artifacts when down-sampling images.\n",
      "  warn(\"Anti-aliasing will be enabled by default in skimage 0.15 to \"\n"
     ]
    },
    {
     "ename": "NameError",
     "evalue": "name 'num_buttons' is not defined",
     "output_type": "error",
     "traceback": [
      "\u001b[0;31m---------------------------------------------------------------------------\u001b[0m",
      "\u001b[0;31mNameError\u001b[0m                                 Traceback (most recent call last)",
      "\u001b[0;32m<ipython-input-6-3541f91445c5>\u001b[0m in \u001b[0;36m<module>\u001b[0;34m()\u001b[0m\n\u001b[1;32m      5\u001b[0m     \u001b[0mdone\u001b[0m \u001b[0;34m=\u001b[0m \u001b[0;32mFalse\u001b[0m\u001b[0;34m\u001b[0m\u001b[0m\n\u001b[1;32m      6\u001b[0m     \u001b[0;32mwhile\u001b[0m \u001b[0;32mnot\u001b[0m \u001b[0mdone\u001b[0m\u001b[0;34m:\u001b[0m\u001b[0;34m\u001b[0m\u001b[0m\n\u001b[0;32m----> 7\u001b[0;31m         \u001b[0mob\u001b[0m\u001b[0;34m,\u001b[0m \u001b[0mreward\u001b[0m\u001b[0;34m,\u001b[0m \u001b[0mdone\u001b[0m\u001b[0;34m,\u001b[0m \u001b[0minfo\u001b[0m \u001b[0;34m=\u001b[0m \u001b[0menv\u001b[0m\u001b[0;34m.\u001b[0m\u001b[0mstep\u001b[0m\u001b[0;34m(\u001b[0m\u001b[0mchoice\u001b[0m\u001b[0;34m(\u001b[0m\u001b[0mrange\u001b[0m\u001b[0;34m(\u001b[0m\u001b[0mnum_buttons\u001b[0m\u001b[0;34m)\u001b[0m\u001b[0;34m)\u001b[0m\u001b[0;34m)\u001b[0m\u001b[0;34m\u001b[0m\u001b[0m\n\u001b[0m\u001b[1;32m      8\u001b[0m \u001b[0;34m\u001b[0m\u001b[0m\n\u001b[1;32m      9\u001b[0m         \u001b[0;32mif\u001b[0m \u001b[0msleep_time\u001b[0m \u001b[0;34m>\u001b[0m \u001b[0;36m0\u001b[0m\u001b[0;34m:\u001b[0m\u001b[0;34m\u001b[0m\u001b[0m\n",
      "\u001b[0;31mNameError\u001b[0m: name 'num_buttons' is not defined"
     ]
    }
   ],
   "source": [
    "episodes = 10\n",
    "env = ViZDoomENV(0)\n",
    "for i in range(episodes):\n",
    "    ob = env.reset()\n",
    "    done = False\n",
    "    while not done:\n",
    "        ob, reward, done, info = env.step(choice(range(num_buttons)))\n",
    "        \n",
    "        if sleep_time > 0:\n",
    "            sleep(sleep_time)\n",
    "        \n",
    "        "
   ]
  },
  {
   "cell_type": "code",
   "execution_count": 145,
   "metadata": {},
   "outputs": [],
   "source": [
    "game.set_screen_resolution(vzd.ScreenResolution.RES_160X120)\n",
    "game.set_screen_format(vzd.ScreenFormat.RGB24)\n",
    "game.set_depth_buffer_enabled(True)"
   ]
  },
  {
   "cell_type": "code",
   "execution_count": 146,
   "metadata": {},
   "outputs": [],
   "source": [
    "# rendering\n",
    "# Sets other rendering options (all of these options except crosshair are enabled (set to True) by default)\n",
    "game.set_render_hud(False)\n",
    "game.set_render_minimal_hud(False)  # If hud is enabled\n",
    "game.set_render_crosshair(False)\n",
    "game.set_render_weapon(True)\n",
    "game.set_render_decals(False)  # Bullet holes and blood on the walls\n",
    "game.set_render_particles(False)\n",
    "game.set_render_effects_sprites(False)  # Smoke and blood\n",
    "game.set_render_messages(False)  # In-game messages\n",
    "game.set_render_corpses(False)\n",
    "game.set_render_screen_flashes(True)  # Effect upon taking damage or picking up items"
   ]
  },
  {
   "cell_type": "code",
   "execution_count": 148,
   "metadata": {},
   "outputs": [],
   "source": [
    "# Adds buttons that will be allowed.\n",
    "game.add_available_button(vzd.Button.MOVE_LEFT)\n",
    "game.add_available_button(vzd.Button.MOVE_RIGHT)\n",
    "game.add_available_button(vzd.Button.MOVE_FORWARD)\n",
    "game.add_available_button(vzd.Button.MOVE_BACKWARD)"
   ]
  },
  {
   "cell_type": "code",
   "execution_count": 149,
   "metadata": {},
   "outputs": [],
   "source": [
    "# Causes episodes to finish after 200 tics (actions)\n",
    "game.set_episode_timeout(2000)\n",
    "# Makes episodes start after 10 tics (~after raising the weapon)\n",
    "game.set_episode_start_time(10)\n",
    "# Sets the livin reward (for each move) to -1\n",
    "game.set_living_reward(-1)\n",
    "# Sets ViZDoom mode (PLAYER, ASYNC_PLAYER, SPECTATOR, ASYNC_SPECTATOR, PLAYER mode is default)\n",
    "game.set_mode(vzd.Mode.PLAYER)"
   ]
  },
  {
   "cell_type": "code",
   "execution_count": 150,
   "metadata": {},
   "outputs": [],
   "source": [
    "game.init()"
   ]
  },
  {
   "cell_type": "code",
   "execution_count": 151,
   "metadata": {},
   "outputs": [],
   "source": [
    "num_buttons = 4\n",
    "actions = [([False] * num_buttons)for i in range(num_buttons)]\n",
    "for i in range(num_buttons):\n",
    "    actions[i][i] = True"
   ]
  },
  {
   "cell_type": "code",
   "execution_count": 152,
   "metadata": {},
   "outputs": [
    {
     "data": {
      "text/plain": [
       "[[True, False, False, False],\n",
       " [False, True, False, False],\n",
       " [False, False, True, False],\n",
       " [False, False, False, True]]"
      ]
     },
     "execution_count": 152,
     "metadata": {},
     "output_type": "execute_result"
    }
   ],
   "source": [
    "actions"
   ]
  },
  {
   "cell_type": "code",
   "execution_count": 153,
   "metadata": {},
   "outputs": [],
   "source": [
    "# Run this many episodes\n",
    "episodes = 1"
   ]
  },
  {
   "cell_type": "code",
   "execution_count": 154,
   "metadata": {},
   "outputs": [],
   "source": [
    "# Sets time that will pause the engine after each action (in seconds)\n",
    "# Without this everything would go too fast for you to keep track of what's happening.\n",
    "sleep_time = 1.0 / vzd.DEFAULT_TICRATE # = 0.028"
   ]
  },
  {
   "cell_type": "code",
   "execution_count": 209,
   "metadata": {},
   "outputs": [],
   "source": []
  },
  {
   "cell_type": "code",
   "execution_count": 214,
   "metadata": {},
   "outputs": [
    {
     "data": {
      "text/plain": [
       "{'Episode_Total_Reward': 384.0}"
      ]
     },
     "execution_count": 214,
     "metadata": {},
     "output_type": "execute_result"
    }
   ],
   "source": [
    "info"
   ]
  },
  {
   "cell_type": "code",
   "execution_count": 155,
   "metadata": {},
   "outputs": [
    {
     "name": "stdout",
     "output_type": "stream",
     "text": [
      "Episode #1\n",
      "State #1\n",
      "Game variables: None\n",
      "Reward: -5.0\n",
      "=====================\n",
      "State #2\n",
      "Game variables: None\n",
      "Reward: -5.0\n",
      "=====================\n",
      "State #3\n",
      "Game variables: None\n",
      "Reward: -5.0\n",
      "=====================\n",
      "State #4\n",
      "Game variables: None\n",
      "Reward: -5.0\n",
      "=====================\n",
      "State #5\n",
      "Game variables: None\n",
      "Reward: -5.0\n",
      "=====================\n",
      "State #6\n",
      "Game variables: None\n",
      "Reward: -5.0\n",
      "=====================\n",
      "State #7\n",
      "Game variables: None\n",
      "Reward: -5.0\n",
      "=====================\n",
      "State #8\n",
      "Game variables: None\n",
      "Reward: -5.0\n",
      "=====================\n",
      "State #9\n",
      "Game variables: None\n",
      "Reward: -5.0\n",
      "=====================\n",
      "State #10\n",
      "Game variables: None\n",
      "Reward: -5.0\n",
      "=====================\n",
      "State #11\n",
      "Game variables: None\n",
      "Reward: -5.0\n",
      "=====================\n",
      "State #12\n",
      "Game variables: None\n",
      "Reward: -5.0\n",
      "=====================\n",
      "State #13\n",
      "Game variables: None\n",
      "Reward: -5.0\n",
      "=====================\n",
      "State #14\n",
      "Game variables: None\n",
      "Reward: -5.0\n",
      "=====================\n",
      "State #15\n",
      "Game variables: None\n",
      "Reward: -5.0\n",
      "=====================\n",
      "State #16\n",
      "Game variables: None\n",
      "Reward: -5.0\n",
      "=====================\n",
      "State #17\n",
      "Game variables: None\n",
      "Reward: -5.0\n",
      "=====================\n",
      "State #18\n",
      "Game variables: None\n",
      "Reward: -5.0\n",
      "=====================\n",
      "State #19\n",
      "Game variables: None\n",
      "Reward: -5.0\n",
      "=====================\n",
      "State #20\n",
      "Game variables: None\n",
      "Reward: -5.0\n",
      "=====================\n",
      "State #21\n",
      "Game variables: None\n",
      "Reward: -5.0\n",
      "=====================\n",
      "State #22\n",
      "Game variables: None\n",
      "Reward: -5.0\n",
      "=====================\n",
      "State #23\n",
      "Game variables: None\n",
      "Reward: -5.0\n",
      "=====================\n",
      "State #24\n",
      "Game variables: None\n",
      "Reward: -5.0\n",
      "=====================\n",
      "State #25\n",
      "Game variables: None\n",
      "Reward: -5.0\n",
      "=====================\n",
      "State #26\n",
      "Game variables: None\n",
      "Reward: -5.0\n",
      "=====================\n",
      "State #27\n",
      "Game variables: None\n",
      "Reward: -5.0\n",
      "=====================\n",
      "State #28\n",
      "Game variables: None\n",
      "Reward: -5.0\n",
      "=====================\n",
      "State #29\n",
      "Game variables: None\n",
      "Reward: -5.0\n",
      "=====================\n",
      "State #30\n",
      "Game variables: None\n",
      "Reward: -5.0\n",
      "=====================\n",
      "State #31\n",
      "Game variables: None\n",
      "Reward: -5.0\n",
      "=====================\n",
      "State #32\n",
      "Game variables: None\n",
      "Reward: -5.0\n",
      "=====================\n",
      "State #33\n",
      "Game variables: None\n",
      "Reward: -5.0\n",
      "=====================\n",
      "State #34\n",
      "Game variables: None\n",
      "Reward: -5.0\n",
      "=====================\n",
      "State #35\n",
      "Game variables: None\n",
      "Reward: -5.0\n",
      "=====================\n",
      "State #36\n",
      "Game variables: None\n",
      "Reward: -5.0\n",
      "=====================\n",
      "State #37\n",
      "Game variables: None\n",
      "Reward: -5.0\n",
      "=====================\n",
      "State #38\n",
      "Game variables: None\n",
      "Reward: -5.0\n",
      "=====================\n",
      "State #39\n",
      "Game variables: None\n",
      "Reward: -5.0\n",
      "=====================\n",
      "State #40\n",
      "Game variables: None\n",
      "Reward: -5.0\n",
      "=====================\n",
      "State #41\n",
      "Game variables: None\n",
      "Reward: -5.0\n",
      "=====================\n",
      "State #42\n",
      "Game variables: None\n",
      "Reward: -5.0\n",
      "=====================\n",
      "State #43\n",
      "Game variables: None\n",
      "Reward: -5.0\n",
      "=====================\n",
      "State #44\n",
      "Game variables: None\n",
      "Reward: -5.0\n",
      "=====================\n",
      "State #45\n",
      "Game variables: None\n",
      "Reward: -5.0\n",
      "=====================\n",
      "State #46\n",
      "Game variables: None\n",
      "Reward: -5.0\n",
      "=====================\n",
      "State #47\n",
      "Game variables: None\n",
      "Reward: -5.0\n",
      "=====================\n",
      "State #48\n",
      "Game variables: None\n",
      "Reward: -5.0\n",
      "=====================\n",
      "State #49\n",
      "Game variables: None\n",
      "Reward: -5.0\n",
      "=====================\n",
      "State #50\n",
      "Game variables: None\n",
      "Reward: -5.0\n",
      "=====================\n",
      "State #51\n",
      "Game variables: None\n",
      "Reward: -5.0\n",
      "=====================\n",
      "State #52\n",
      "Game variables: None\n",
      "Reward: -5.0\n",
      "=====================\n",
      "State #53\n",
      "Game variables: None\n",
      "Reward: -5.0\n",
      "=====================\n",
      "State #54\n",
      "Game variables: None\n",
      "Reward: -5.0\n",
      "=====================\n",
      "State #55\n",
      "Game variables: None\n",
      "Reward: -5.0\n",
      "=====================\n",
      "State #56\n",
      "Game variables: None\n",
      "Reward: -5.0\n",
      "=====================\n",
      "State #57\n",
      "Game variables: None\n",
      "Reward: -5.0\n",
      "=====================\n",
      "State #58\n",
      "Game variables: None\n",
      "Reward: -5.0\n",
      "=====================\n",
      "State #59\n",
      "Game variables: None\n",
      "Reward: -5.0\n",
      "=====================\n",
      "State #60\n",
      "Game variables: None\n",
      "Reward: -5.0\n",
      "=====================\n",
      "State #61\n",
      "Game variables: None\n",
      "Reward: -5.0\n",
      "=====================\n",
      "State #62\n",
      "Game variables: None\n",
      "Reward: -5.0\n",
      "=====================\n",
      "State #63\n",
      "Game variables: None\n",
      "Reward: -5.0\n",
      "=====================\n",
      "State #64\n",
      "Game variables: None\n",
      "Reward: -5.0\n",
      "=====================\n",
      "State #65\n",
      "Game variables: None\n",
      "Reward: -5.0\n",
      "=====================\n",
      "State #66\n",
      "Game variables: None\n",
      "Reward: -5.0\n",
      "=====================\n",
      "State #67\n",
      "Game variables: None\n",
      "Reward: -5.0\n",
      "=====================\n",
      "State #68\n",
      "Game variables: None\n",
      "Reward: -5.0\n",
      "=====================\n",
      "State #69\n",
      "Game variables: None\n",
      "Reward: -5.0\n",
      "=====================\n",
      "State #70\n",
      "Game variables: None\n",
      "Reward: -5.0\n",
      "=====================\n",
      "State #71\n",
      "Game variables: None\n",
      "Reward: -5.0\n",
      "=====================\n",
      "State #72\n",
      "Game variables: None\n",
      "Reward: -5.0\n",
      "=====================\n",
      "State #73\n",
      "Game variables: None\n",
      "Reward: -5.0\n",
      "=====================\n",
      "State #74\n",
      "Game variables: None\n",
      "Reward: -5.0\n",
      "=====================\n",
      "State #75\n",
      "Game variables: None\n",
      "Reward: -5.0\n",
      "=====================\n",
      "State #76\n",
      "Game variables: None\n",
      "Reward: -5.0\n",
      "=====================\n",
      "State #77\n",
      "Game variables: None\n",
      "Reward: -5.0\n",
      "=====================\n",
      "State #78\n",
      "Game variables: None\n",
      "Reward: -5.0\n",
      "=====================\n",
      "State #79\n",
      "Game variables: None\n",
      "Reward: -5.0\n",
      "=====================\n",
      "State #80\n",
      "Game variables: None\n",
      "Reward: -5.0\n",
      "=====================\n",
      "State #81\n",
      "Game variables: None\n",
      "Reward: -5.0\n",
      "=====================\n",
      "State #82\n",
      "Game variables: None\n",
      "Reward: -5.0\n",
      "=====================\n",
      "State #83\n",
      "Game variables: None\n",
      "Reward: -5.0\n",
      "=====================\n",
      "State #84\n",
      "Game variables: None\n",
      "Reward: -5.0\n",
      "=====================\n",
      "State #85\n",
      "Game variables: None\n",
      "Reward: -5.0\n",
      "=====================\n",
      "State #86\n",
      "Game variables: None\n",
      "Reward: -5.0\n",
      "=====================\n",
      "State #87\n",
      "Game variables: None\n",
      "Reward: -5.0\n",
      "=====================\n",
      "State #88\n",
      "Game variables: None\n",
      "Reward: -5.0\n",
      "=====================\n",
      "State #89\n",
      "Game variables: None\n",
      "Reward: -5.0\n",
      "=====================\n",
      "State #90\n",
      "Game variables: None\n",
      "Reward: -5.0\n",
      "=====================\n",
      "State #91\n",
      "Game variables: None\n",
      "Reward: -5.0\n",
      "=====================\n",
      "State #92\n",
      "Game variables: None\n",
      "Reward: -5.0\n",
      "=====================\n",
      "State #93\n",
      "Game variables: None\n",
      "Reward: -5.0\n",
      "=====================\n",
      "State #94\n",
      "Game variables: None\n",
      "Reward: -5.0\n",
      "=====================\n",
      "State #95\n",
      "Game variables: None\n",
      "Reward: -5.0\n",
      "=====================\n",
      "State #96\n",
      "Game variables: None\n",
      "Reward: -5.0\n",
      "=====================\n",
      "State #97\n",
      "Game variables: None\n",
      "Reward: -5.0\n",
      "=====================\n",
      "State #98\n",
      "Game variables: None\n",
      "Reward: -5.0\n",
      "=====================\n",
      "State #99\n",
      "Game variables: None\n",
      "Reward: -5.0\n",
      "=====================\n",
      "State #100\n",
      "Game variables: None\n",
      "Reward: -5.0\n",
      "=====================\n",
      "State #101\n",
      "Game variables: None\n",
      "Reward: -5.0\n",
      "=====================\n",
      "State #102\n",
      "Game variables: None\n",
      "Reward: -5.0\n",
      "=====================\n",
      "State #103\n",
      "Game variables: None\n",
      "Reward: -5.0\n",
      "=====================\n",
      "State #104\n",
      "Game variables: None\n",
      "Reward: -5.0\n",
      "=====================\n",
      "State #105\n",
      "Game variables: None\n",
      "Reward: -5.0\n",
      "=====================\n",
      "State #106\n",
      "Game variables: None\n",
      "Reward: -5.0\n",
      "=====================\n",
      "State #107\n",
      "Game variables: None\n",
      "Reward: -5.0\n",
      "=====================\n",
      "State #108\n",
      "Game variables: None\n",
      "Reward: -5.0\n",
      "=====================\n",
      "State #109\n",
      "Game variables: None\n",
      "Reward: -5.0\n",
      "=====================\n",
      "State #110\n",
      "Game variables: None\n",
      "Reward: -5.0\n",
      "=====================\n",
      "State #111\n",
      "Game variables: None\n",
      "Reward: -5.0\n",
      "=====================\n",
      "State #112\n",
      "Game variables: None\n",
      "Reward: -5.0\n",
      "=====================\n",
      "State #113\n",
      "Game variables: None\n",
      "Reward: -5.0\n",
      "=====================\n",
      "State #114\n",
      "Game variables: None\n",
      "Reward: -5.0\n",
      "=====================\n",
      "State #115\n",
      "Game variables: None\n",
      "Reward: -5.0\n",
      "=====================\n",
      "State #116\n",
      "Game variables: None\n",
      "Reward: -5.0\n",
      "=====================\n",
      "State #117\n",
      "Game variables: None\n",
      "Reward: -5.0\n",
      "=====================\n",
      "State #118\n",
      "Game variables: None\n",
      "Reward: -5.0\n",
      "=====================\n",
      "State #119\n",
      "Game variables: None\n",
      "Reward: -5.0\n",
      "=====================\n",
      "State #120\n",
      "Game variables: None\n",
      "Reward: -5.0\n",
      "=====================\n",
      "State #121\n",
      "Game variables: None\n",
      "Reward: -5.0\n",
      "=====================\n",
      "State #122\n",
      "Game variables: None\n",
      "Reward: -5.0\n",
      "=====================\n",
      "State #123\n",
      "Game variables: None\n",
      "Reward: -5.0\n",
      "=====================\n",
      "State #124\n",
      "Game variables: None\n",
      "Reward: -5.0\n",
      "=====================\n",
      "State #125\n",
      "Game variables: None\n",
      "Reward: -5.0\n",
      "=====================\n",
      "State #126\n",
      "Game variables: None\n",
      "Reward: -5.0\n",
      "=====================\n",
      "State #127\n",
      "Game variables: None\n",
      "Reward: -1.0\n",
      "=====================\n",
      "Episode finished.\n",
      "Total reward: -631.0\n",
      "************************\n"
     ]
    }
   ],
   "source": [
    "for i in range(episodes):\n",
    "    print(\"Episode #\" + str(i + 1))\n",
    "\n",
    "    # Starts a new episode. It is not needed right after init() but it doesn't cost much. At least the loop is nicer.\n",
    "    game.new_episode()\n",
    "\n",
    "    while not game.is_episode_finished():\n",
    "\n",
    "        # Gets the state\n",
    "        state = game.get_state()\n",
    "\n",
    "        # Which consists of:\n",
    "        n = state.number\n",
    "        vars = state.game_variables\n",
    "        screen_buf = state.screen_buffer\n",
    "        depth_buf = state.depth_buffer\n",
    "        labels_buf = state.labels_buffer\n",
    "        automap_buf = state.automap_buffer\n",
    "        labels = state.labels\n",
    "\n",
    "        # Games variables can be also accessed via:\n",
    "        #game.get_game_variable(GameVariable.AMMO2)\n",
    "\n",
    "        # Makes a random action and get remember reward.\n",
    "        r = game.make_action(choice(actions))\n",
    "\n",
    "        # Makes a \"prolonged\" action and skip frames:\n",
    "        # skiprate = 4\n",
    "        # r = game.make_action(choice(actions), skiprate)\n",
    "\n",
    "        # The same could be achieved with:\n",
    "        # game.set_action(choice(actions))\n",
    "        # game.advance_action(skiprate)\n",
    "        # r = game.get_last_reward()\n",
    "\n",
    "        # Prints state's game variables and reward.\n",
    "        print(\"State #\" + str(n))\n",
    "        print(\"Game variables:\", vars)\n",
    "        print(\"Reward:\", r)\n",
    "        print(\"=====================\")\n",
    "\n",
    "        if sleep_time > 0:\n",
    "            sleep(sleep_time)\n",
    "\n",
    "    # Check how the episode went.\n",
    "    print(\"Episode finished.\")\n",
    "    print(\"Total reward:\", game.get_total_reward())\n",
    "    print(\"************************\")"
   ]
  },
  {
   "cell_type": "code",
   "execution_count": 20,
   "metadata": {},
   "outputs": [
    {
     "data": {
      "text/plain": [
       "(120, 160, 3)"
      ]
     },
     "execution_count": 20,
     "metadata": {},
     "output_type": "execute_result"
    }
   ],
   "source": [
    "screen_buf.shape"
   ]
  },
  {
   "cell_type": "code",
   "execution_count": 21,
   "metadata": {},
   "outputs": [
    {
     "data": {
      "text/plain": [
       "(120, 160)"
      ]
     },
     "execution_count": 21,
     "metadata": {},
     "output_type": "execute_result"
    }
   ],
   "source": [
    "depth_buf.shape"
   ]
  },
  {
   "cell_type": "code",
   "execution_count": 5,
   "metadata": {},
   "outputs": [
    {
     "data": {
      "text/plain": [
       "mappingproxy({'__init__': <instancemethod __init__ at 0x10f306f48>,\n",
       "              '__doc__': None,\n",
       "              '__module__': 'vizdoom.vizdoom',\n",
       "              '__repr__': <instancemethod __repr__ at 0x10f306eb8>,\n",
       "              '__members__': <pybind11_builtins.pybind11_static_property at 0x10f332e58>,\n",
       "              '__int__': <instancemethod __int__ at 0x10f306fa8>,\n",
       "              '__eq__': <instancemethod __eq__ at 0x10f33d0d8>,\n",
       "              '__ne__': <instancemethod __ne__ at 0x10f33d048>,\n",
       "              '__hash__': <instancemethod __hash__ at 0x10f33d108>,\n",
       "              '__getstate__': <instancemethod __getstate__ at 0x10f33d168>,\n",
       "              '__setstate__': <instancemethod __setstate__ at 0x10f33d1c8>,\n",
       "              'RES_160X120': ScreenResolution.RES_160X120,\n",
       "              'RES_200X125': ScreenResolution.RES_200X125,\n",
       "              'RES_200X150': ScreenResolution.RES_200X150,\n",
       "              'RES_256X144': ScreenResolution.RES_256X144,\n",
       "              'RES_256X160': ScreenResolution.RES_256X160,\n",
       "              'RES_256X192': ScreenResolution.RES_256X192,\n",
       "              'RES_320X180': ScreenResolution.RES_320X180,\n",
       "              'RES_320X200': ScreenResolution.RES_320X200,\n",
       "              'RES_320X240': ScreenResolution.RES_320X240,\n",
       "              'RES_320X256': ScreenResolution.RES_320X256,\n",
       "              'RES_400X225': ScreenResolution.RES_400X225,\n",
       "              'RES_400X250': ScreenResolution.RES_400X250,\n",
       "              'RES_400X300': ScreenResolution.RES_400X300,\n",
       "              'RES_512X288': ScreenResolution.RES_512X288,\n",
       "              'RES_512X320': ScreenResolution.RES_512X320,\n",
       "              'RES_512X384': ScreenResolution.RES_512X384,\n",
       "              'RES_640X360': ScreenResolution.RES_640X360,\n",
       "              'RES_640X400': ScreenResolution.RES_640X400,\n",
       "              'RES_640X480': ScreenResolution.RES_640X480,\n",
       "              'RES_800X450': ScreenResolution.RES_800X450,\n",
       "              'RES_800X500': ScreenResolution.RES_800X500,\n",
       "              'RES_800X600': ScreenResolution.RES_800X600,\n",
       "              'RES_1024X576': ScreenResolution.RES_1024X576,\n",
       "              'RES_1024X640': ScreenResolution.RES_1024X640,\n",
       "              'RES_1024X768': ScreenResolution.RES_1024X768,\n",
       "              'RES_1280X720': ScreenResolution.RES_1280X720,\n",
       "              'RES_1280X800': ScreenResolution.RES_1280X800,\n",
       "              'RES_1280X960': ScreenResolution.RES_1280X960,\n",
       "              'RES_1280X1024': ScreenResolution.RES_1280X1024,\n",
       "              'RES_1400X787': ScreenResolution.RES_1400X787,\n",
       "              'RES_1400X875': ScreenResolution.RES_1400X875,\n",
       "              'RES_1400X1050': ScreenResolution.RES_1400X1050,\n",
       "              'RES_1600X900': ScreenResolution.RES_1600X900,\n",
       "              'RES_1600X1000': ScreenResolution.RES_1600X1000,\n",
       "              'RES_1600X1200': ScreenResolution.RES_1600X1200,\n",
       "              'RES_1920X1080': ScreenResolution.RES_1920X1080})"
      ]
     },
     "execution_count": 5,
     "metadata": {},
     "output_type": "execute_result"
    }
   ],
   "source": [
    "vzd.ScreenResolution.__dict__"
   ]
  },
  {
   "cell_type": "code",
   "execution_count": 24,
   "metadata": {},
   "outputs": [],
   "source": [
    "import matplotlib.pyplot as plt"
   ]
  },
  {
   "cell_type": "code",
   "execution_count": 30,
   "metadata": {},
   "outputs": [
    {
     "data": {
      "text/plain": [
       "<matplotlib.image.AxesImage at 0x110c868d0>"
      ]
     },
     "execution_count": 30,
     "metadata": {},
     "output_type": "execute_result"
    },
    {
     "data": {
      "image/png": "[encoded data removed]",
      "text/plain": [
       "<Figure size 432x288 with 1 Axes>"
      ]
     },
     "metadata": {
      "needs_background": "light"
     },
     "output_type": "display_data"
    }
   ],
   "source": [
    "plt.imshow(screen_buf)"
   ]
  },
  {
   "cell_type": "code",
   "execution_count": 39,
   "metadata": {},
   "outputs": [],
   "source": [
    "import skimage.transform"
   ]
  },
  {
   "cell_type": "code",
   "execution_count": 42,
   "metadata": {},
   "outputs": [
    {
     "name": "stderr",
     "output_type": "stream",
     "text": [
      "/Users/harry/venv/lib/python3.6/site-packages/skimage/transform/_warps.py:105: UserWarning: The default mode, 'constant', will be changed to 'reflect' in skimage 0.15.\n",
      "  warn(\"The default mode, 'constant', will be changed to 'reflect' in \"\n",
      "/Users/harry/venv/lib/python3.6/site-packages/skimage/transform/_warps.py:110: UserWarning: Anti-aliasing will be enabled by default in skimage 0.15 to avoid aliasing artifacts when down-sampling images.\n",
      "  warn(\"Anti-aliasing will be enabled by default in skimage 0.15 to \"\n"
     ]
    }
   ],
   "source": [
    "res = skimage.transform.resize(depth_buf, (84, 84))"
   ]
  },
  {
   "cell_type": "code",
   "execution_count": 43,
   "metadata": {},
   "outputs": [
    {
     "data": {
      "text/plain": [
       "<matplotlib.image.AxesImage at 0x114a6fba8>"
      ]
     },
     "execution_count": 43,
     "metadata": {},
     "output_type": "execute_result"
    },
    {
     "data": {
      "image/png": "[encoded data removed]",
      "text/plain": [
       "<Figure size 432x288 with 1 Axes>"
      ]
     },
     "metadata": {
      "needs_background": "light"
     },
     "output_type": "display_data"
    }
   ],
   "source": [
    "plt.imshow(res)"
   ]
  },
  {
   "cell_type": "code",
   "execution_count": 156,
   "metadata": {},
   "outputs": [
    {
     "data": {
      "text/plain": [
       "[False, False, True, False]"
      ]
     },
     "execution_count": 156,
     "metadata": {},
     "output_type": "execute_result"
    }
   ],
   "source": [
    "choice(actions)"
   ]
  },
  {
   "cell_type": "code",
   "execution_count": 158,
   "metadata": {},
   "outputs": [
    {
     "data": {
      "text/plain": [
       "(120, 160, 3)"
      ]
     },
     "execution_count": 158,
     "metadata": {},
     "output_type": "execute_result"
    }
   ],
   "source": [
    "screen_buf.shape"
   ]
  },
  {
   "cell_type": "code",
   "execution_count": 161,
   "metadata": {},
   "outputs": [
    {
     "data": {
      "text/plain": [
       "(120, 160)"
      ]
     },
     "execution_count": 161,
     "metadata": {},
     "output_type": "execute_result"
    }
   ],
   "source": [
    "screen_buf[:,:,0].shape"
   ]
  },
  {
   "cell_type": "code",
   "execution_count": 166,
   "metadata": {},
   "outputs": [],
   "source": [
    "rolled = np.rollaxis(screen_buf, 2, 0)  "
   ]
  },
  {
   "cell_type": "code",
   "execution_count": 173,
   "metadata": {},
   "outputs": [
    {
     "data": {
      "text/plain": [
       "0"
      ]
     },
     "execution_count": 173,
     "metadata": {},
     "output_type": "execute_result"
    }
   ],
   "source": [
    "np.sum(rolled[0] - screen_buf[:,:,0])"
   ]
  },
  {
   "cell_type": "code",
   "execution_count": 171,
   "metadata": {},
   "outputs": [
    {
     "data": {
      "text/plain": [
       "array([[ 0,  0,  0, ...,  0,  0,  0],\n",
       "       [ 0,  0,  0, ...,  0,  0,  0],\n",
       "       [ 0,  0,  0, ...,  0,  0,  0],\n",
       "       ...,\n",
       "       [31, 19, 15, ..., 23, 39, 23],\n",
       "       [31, 31, 23, ..., 23, 39, 39],\n",
       "       [31, 31, 23, ..., 31, 23, 23]], dtype=uint8)"
      ]
     },
     "execution_count": 171,
     "metadata": {},
     "output_type": "execute_result"
    }
   ],
   "source": [
    "screen_buf[:,:,0]"
   ]
  },
  {
   "cell_type": "code",
   "execution_count": 174,
   "metadata": {},
   "outputs": [
    {
     "data": {
      "text/plain": [
       "(3, 120, 160)"
      ]
     },
     "execution_count": 174,
     "metadata": {},
     "output_type": "execute_result"
    }
   ],
   "source": [
    "rolled.shape"
   ]
  },
  {
   "cell_type": "code",
   "execution_count": 183,
   "metadata": {},
   "outputs": [],
   "source": [
    "t = np.vstack([rolled, rolled])"
   ]
  },
  {
   "cell_type": "code",
   "execution_count": 187,
   "metadata": {},
   "outputs": [
    {
     "data": {
      "text/plain": [
       "0"
      ]
     },
     "execution_count": 187,
     "metadata": {},
     "output_type": "execute_result"
    }
   ],
   "source": [
    "np.sum(t[:3,:,:] - rolled)"
   ]
  },
  {
   "cell_type": "code",
   "execution_count": 196,
   "metadata": {},
   "outputs": [
    {
     "data": {
      "text/plain": [
       "(120, 160)"
      ]
     },
     "execution_count": 196,
     "metadata": {},
     "output_type": "execute_result"
    }
   ],
   "source": [
    "depth_buf.shape"
   ]
  },
  {
   "cell_type": "code",
   "execution_count": null,
   "metadata": {},
   "outputs": [],
   "source": []
  }
 ],
 "metadata": {
  "kernelspec": {
   "display_name": "Python 3",
   "language": "python",
   "name": "python3"
  },
  "language_info": {
   "codemirror_mode": {
    "name": "ipython",
    "version": 3
   },
   "file_extension": ".py",
   "mimetype": "text/x-python",
   "name": "python",
   "nbconvert_exporter": "python",
   "pygments_lexer": "ipython3",
   "version": "3.6.5"
  }
 },
 "nbformat": 4,
 "nbformat_minor": 2
}
